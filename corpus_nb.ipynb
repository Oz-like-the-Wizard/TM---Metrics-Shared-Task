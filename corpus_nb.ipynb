{
 "metadata": {
  "language_info": {
   "codemirror_mode": {
    "name": "ipython",
    "version": 3
   },
   "file_extension": ".py",
   "mimetype": "text/x-python",
   "name": "python",
   "nbconvert_exporter": "python",
   "pygments_lexer": "ipython3",
   "version": "3.8.10"
  },
  "orig_nbformat": 2,
  "kernelspec": {
   "name": "python3810jvsc74a57bd092ba50c92c9dc11b366869717e90d544d23b7140e20708921d0ff91f276d2e3f",
   "display_name": "Python 3.8.10 64-bit ('base': conda)"
  }
 },
 "nbformat": 4,
 "nbformat_minor": 2,
 "cells": [
  {
   "cell_type": "code",
   "execution_count": 2,
   "metadata": {},
   "outputs": [
    {
     "output_type": "stream",
     "name": "stderr",
     "text": [
      "C:\\Users\\oguzk\\anaconda3\\lib\\site-packages\\gensim\\similarities\\__init__.py:15: UserWarning: The gensim.similarities.levenshtein submodule is disabled, because the optional Levenshtein package <https://pypi.org/project/python-Levenshtein/> is unavailable. Install Levenhstein (e.g. `pip install python-Levenshtein`) to suppress this warning.\n  warnings.warn(msg)\n"
     ]
    }
   ],
   "source": [
    "from main import tokenization, match_regex, chinese_regex, tokenization_lemma\n",
    "import pandas as pd\n",
    "from gensim.models import Word2Vec"
   ]
  },
  {
   "cell_type": "code",
   "execution_count": 3,
   "metadata": {},
   "outputs": [],
   "source": [
    "language_pairs = [\n",
    "    'en-fi', 'en-zh', 'cs-en'\n",
    "    , 'de-en', 'ru-en', 'zh-en'\n",
    "]\n",
    "translations = ['fi', 'zh', 'en']\n",
    "\n",
    "corpus_fi = []\n",
    "corpus_zh = []\n",
    "corpus_en = []\n",
    "\n",
    "for pair in language_pairs:\n",
    "    languages = pair.split('-')\n",
    "    for i in range(2):\n",
    "        all_sentences = pd.read_csv(os.path.join('corpus',pair, 'scores.csv'))\n",
    "        if i == 0:\n",
    "            sentences = all_sentences['source']\n",
    "        if i == 1:\n",
    "            sentences = all_sentences['reference'].append(all_sentences['translation'], ignore_index=True)\n",
    "              \n",
    "        if languages[i]=='fi':\n",
    "            corpus_fi.append(sentences)\n",
    "        elif languages[i]=='zh':\n",
    "            corpus_zh.append(sentences)\n",
    "        elif languages[i]=='en':\n",
    "            corpus_en.append(sentences)\n"
   ]
  },
  {
   "cell_type": "code",
   "execution_count": 4,
   "metadata": {},
   "outputs": [],
   "source": [
    "corpus_fi = list(pd.concat(corpus_fi))\n",
    "corpus_en = list(pd.concat(corpus_en))\n",
    "corpus_zh = list(pd.concat(corpus_zh))\n"
   ]
  },
  {
   "cell_type": "code",
   "execution_count": 4,
   "metadata": {},
   "outputs": [
    {
     "output_type": "stream",
     "name": "stderr",
     "text": [
      "172345it [06:06, 470.43it/s]\n",
      "13496it [00:02, 6101.60it/s]\n",
      "46861it [02:08, 363.83it/s]\n"
     ]
    }
   ],
   "source": [
    "#English\n",
    "en_tokenized = tokenization(corpus_en, tool = 'spacy', language = 'en', pos_to_remove = ['PUNCT', 'NUM'], ent_to_remove = ['PERSON','ORG'], stop_words_to_remove= True, lowercase = True)\n",
    "\n",
    "# Finnish\n",
    "# remove punctuation keeping the strings with letters\n",
    "fin_tokenized = tokenization(corpus_fi, tool = 'spacy', language = 'fi',lowercase = True)\n",
    "fin_tokenized = match_regex(fin_tokenized, letters = True, letters_and_numbers = False)\n",
    "\n",
    "#Chinese\n",
    "zh_tokenized = tokenization(corpus_zh, tool = 'spacy', language = 'zh', stop_words_to_remove= True)\n",
    "zh_tokenized = chinese_regex(zh_tokenized, chinese= True, chinese_and_numbers = False)\n"
   ]
  },
  {
   "cell_type": "code",
   "execution_count": 6,
   "metadata": {},
   "outputs": [],
   "source": [
    "# Word2Vec Models for each language\n",
    "\n",
    "# English\n",
    "model_en = Word2Vec(sentences=en_tokenized, min_count=1)\n",
    "model_en.save(\"word2vec_en.model\")\n",
    "\n",
    "#Fin\n",
    "model_fi = Word2Vec(sentences=fin_tokenized, min_count=1)\n",
    "model_fi.save(\"word2vec_fi.model\")\n",
    "\n",
    "#Chinese\n",
    "model_zh = Word2Vec(sentences=zh_tokenized, min_count=1)\n",
    "model_zh.save(\"word2vec_zh.model\")\n"
   ]
  },
  {
   "cell_type": "code",
   "execution_count": 7,
   "metadata": {},
   "outputs": [],
   "source": [
    "# Word2Vec Models for each language\n",
    "\n",
    "# English\n",
    "vec_en = model_en.wv\n",
    "vec_en.save(\"en_vectors.kv\")\n",
    "\n",
    "#Fin\n",
    "vec_fi = model_fi.wv\n",
    "vec_fi.save(\"fi_vectors.kv\")\n",
    "\n",
    "#Chi\n",
    "vec_zh = model_zh.wv\n",
    "vec_zh.save(\"zh_vectors.kv\")\n"
   ]
  },
  {
   "cell_type": "code",
   "execution_count": 5,
   "metadata": {},
   "outputs": [
    {
     "output_type": "stream",
     "name": "stderr",
     "text": [
      "172345it [06:36, 435.12it/s]\n",
      "13496it [00:02, 5512.94it/s]\n",
      "46861it [02:10, 360.24it/s]\n"
     ]
    }
   ],
   "source": [
    "## LEMMATIZATION\n",
    "\n",
    "#English\n",
    "en_tokenizedlemma = tokenization_lemma(corpus_en, tool = 'spacy', language = 'en', pos_to_remove = ['PUNCT', 'NUM'], ent_to_remove = ['PERSON','ORG'], stop_words_to_remove= True, lowercase = True)\n",
    "\n",
    "# Finnish\n",
    "# remove punctuation keeping the strings with letters\n",
    "fi_tokenized_lemma = tokenization_lemma(corpus_fi, tool = 'spacy', language = 'fi',lowercase = True)\n",
    "fi_tokenized_lemma = match_regex(fi_tokenized_lemma, letters = True, letters_and_numbers = False)\n",
    "\n",
    "#Chinese\n",
    "zh_tokenized_lemma = tokenization_lemma(corpus_zh, tool = 'spacy', language = 'zh', stop_words_to_remove= True)\n",
    "zh_tokenized_lemma = chinese_regex(zh_tokenized_lemma, chinese= True, chinese_and_numbers = False)\n"
   ]
  },
  {
   "cell_type": "code",
   "execution_count": 11,
   "metadata": {},
   "outputs": [
    {
     "output_type": "error",
     "ename": "RuntimeError",
     "evalue": "you must first build vocabulary before training the model",
     "traceback": [
      "\u001b[1;31m---------------------------------------------------------------------------\u001b[0m",
      "\u001b[1;31mRuntimeError\u001b[0m                              Traceback (most recent call last)",
      "\u001b[1;32m<ipython-input-11-5e583d4d6448>\u001b[0m in \u001b[0;36m<module>\u001b[1;34m\u001b[0m\n\u001b[0;32m     10\u001b[0m \u001b[1;33m\u001b[0m\u001b[0m\n\u001b[0;32m     11\u001b[0m \u001b[1;31m#Chinese\u001b[0m\u001b[1;33m\u001b[0m\u001b[1;33m\u001b[0m\u001b[1;33m\u001b[0m\u001b[0m\n\u001b[1;32m---> 12\u001b[1;33m \u001b[0mmodel_zh_lemma\u001b[0m \u001b[1;33m=\u001b[0m \u001b[0mWord2Vec\u001b[0m\u001b[1;33m(\u001b[0m\u001b[0msentences\u001b[0m\u001b[1;33m=\u001b[0m\u001b[0mzh_tokenized_lemma\u001b[0m\u001b[1;33m,\u001b[0m \u001b[0mmin_count\u001b[0m\u001b[1;33m=\u001b[0m\u001b[1;36m1\u001b[0m\u001b[1;33m)\u001b[0m\u001b[1;33m\u001b[0m\u001b[1;33m\u001b[0m\u001b[0m\n\u001b[0m\u001b[0;32m     13\u001b[0m \u001b[0mmodel_zh_lemma\u001b[0m\u001b[1;33m.\u001b[0m\u001b[0msave\u001b[0m\u001b[1;33m(\u001b[0m\u001b[1;34m\"word2vec_zh_lemma.model\"\u001b[0m\u001b[1;33m)\u001b[0m\u001b[1;33m\u001b[0m\u001b[1;33m\u001b[0m\u001b[0m\n",
      "\u001b[1;32m~\\anaconda3\\lib\\site-packages\\gensim\\models\\word2vec.py\u001b[0m in \u001b[0;36m__init__\u001b[1;34m(self, sentences, corpus_file, vector_size, alpha, window, min_count, max_vocab_size, sample, seed, workers, min_alpha, sg, hs, negative, ns_exponent, cbow_mean, hashfxn, epochs, null_word, trim_rule, sorted_vocab, batch_words, compute_loss, callbacks, comment, max_final_vocab)\u001b[0m\n\u001b[0;32m    417\u001b[0m             \u001b[0mself\u001b[0m\u001b[1;33m.\u001b[0m\u001b[0m_check_corpus_sanity\u001b[0m\u001b[1;33m(\u001b[0m\u001b[0mcorpus_iterable\u001b[0m\u001b[1;33m=\u001b[0m\u001b[0mcorpus_iterable\u001b[0m\u001b[1;33m,\u001b[0m \u001b[0mcorpus_file\u001b[0m\u001b[1;33m=\u001b[0m\u001b[0mcorpus_file\u001b[0m\u001b[1;33m,\u001b[0m \u001b[0mpasses\u001b[0m\u001b[1;33m=\u001b[0m\u001b[1;33m(\u001b[0m\u001b[0mepochs\u001b[0m \u001b[1;33m+\u001b[0m \u001b[1;36m1\u001b[0m\u001b[1;33m)\u001b[0m\u001b[1;33m)\u001b[0m\u001b[1;33m\u001b[0m\u001b[1;33m\u001b[0m\u001b[0m\n\u001b[0;32m    418\u001b[0m             \u001b[0mself\u001b[0m\u001b[1;33m.\u001b[0m\u001b[0mbuild_vocab\u001b[0m\u001b[1;33m(\u001b[0m\u001b[0mcorpus_iterable\u001b[0m\u001b[1;33m=\u001b[0m\u001b[0mcorpus_iterable\u001b[0m\u001b[1;33m,\u001b[0m \u001b[0mcorpus_file\u001b[0m\u001b[1;33m=\u001b[0m\u001b[0mcorpus_file\u001b[0m\u001b[1;33m,\u001b[0m \u001b[0mtrim_rule\u001b[0m\u001b[1;33m=\u001b[0m\u001b[0mtrim_rule\u001b[0m\u001b[1;33m)\u001b[0m\u001b[1;33m\u001b[0m\u001b[1;33m\u001b[0m\u001b[0m\n\u001b[1;32m--> 419\u001b[1;33m             self.train(\n\u001b[0m\u001b[0;32m    420\u001b[0m                 \u001b[0mcorpus_iterable\u001b[0m\u001b[1;33m=\u001b[0m\u001b[0mcorpus_iterable\u001b[0m\u001b[1;33m,\u001b[0m \u001b[0mcorpus_file\u001b[0m\u001b[1;33m=\u001b[0m\u001b[0mcorpus_file\u001b[0m\u001b[1;33m,\u001b[0m \u001b[0mtotal_examples\u001b[0m\u001b[1;33m=\u001b[0m\u001b[0mself\u001b[0m\u001b[1;33m.\u001b[0m\u001b[0mcorpus_count\u001b[0m\u001b[1;33m,\u001b[0m\u001b[1;33m\u001b[0m\u001b[1;33m\u001b[0m\u001b[0m\n\u001b[0;32m    421\u001b[0m                 \u001b[0mtotal_words\u001b[0m\u001b[1;33m=\u001b[0m\u001b[0mself\u001b[0m\u001b[1;33m.\u001b[0m\u001b[0mcorpus_total_words\u001b[0m\u001b[1;33m,\u001b[0m \u001b[0mepochs\u001b[0m\u001b[1;33m=\u001b[0m\u001b[0mself\u001b[0m\u001b[1;33m.\u001b[0m\u001b[0mepochs\u001b[0m\u001b[1;33m,\u001b[0m \u001b[0mstart_alpha\u001b[0m\u001b[1;33m=\u001b[0m\u001b[0mself\u001b[0m\u001b[1;33m.\u001b[0m\u001b[0malpha\u001b[0m\u001b[1;33m,\u001b[0m\u001b[1;33m\u001b[0m\u001b[1;33m\u001b[0m\u001b[0m\n",
      "\u001b[1;32m~\\anaconda3\\lib\\site-packages\\gensim\\models\\word2vec.py\u001b[0m in \u001b[0;36mtrain\u001b[1;34m(self, corpus_iterable, corpus_file, total_examples, total_words, epochs, start_alpha, end_alpha, word_count, queue_factor, report_delay, compute_loss, callbacks, **kwargs)\u001b[0m\n\u001b[0;32m   1032\u001b[0m         \u001b[0mself\u001b[0m\u001b[1;33m.\u001b[0m\u001b[0mepochs\u001b[0m \u001b[1;33m=\u001b[0m \u001b[0mepochs\u001b[0m\u001b[1;33m\u001b[0m\u001b[1;33m\u001b[0m\u001b[0m\n\u001b[0;32m   1033\u001b[0m \u001b[1;33m\u001b[0m\u001b[0m\n\u001b[1;32m-> 1034\u001b[1;33m         \u001b[0mself\u001b[0m\u001b[1;33m.\u001b[0m\u001b[0m_check_training_sanity\u001b[0m\u001b[1;33m(\u001b[0m\u001b[0mepochs\u001b[0m\u001b[1;33m=\u001b[0m\u001b[0mepochs\u001b[0m\u001b[1;33m,\u001b[0m \u001b[0mtotal_examples\u001b[0m\u001b[1;33m=\u001b[0m\u001b[0mtotal_examples\u001b[0m\u001b[1;33m,\u001b[0m \u001b[0mtotal_words\u001b[0m\u001b[1;33m=\u001b[0m\u001b[0mtotal_words\u001b[0m\u001b[1;33m)\u001b[0m\u001b[1;33m\u001b[0m\u001b[1;33m\u001b[0m\u001b[0m\n\u001b[0m\u001b[0;32m   1035\u001b[0m         \u001b[0mself\u001b[0m\u001b[1;33m.\u001b[0m\u001b[0m_check_corpus_sanity\u001b[0m\u001b[1;33m(\u001b[0m\u001b[0mcorpus_iterable\u001b[0m\u001b[1;33m=\u001b[0m\u001b[0mcorpus_iterable\u001b[0m\u001b[1;33m,\u001b[0m \u001b[0mcorpus_file\u001b[0m\u001b[1;33m=\u001b[0m\u001b[0mcorpus_file\u001b[0m\u001b[1;33m,\u001b[0m \u001b[0mpasses\u001b[0m\u001b[1;33m=\u001b[0m\u001b[0mepochs\u001b[0m\u001b[1;33m)\u001b[0m\u001b[1;33m\u001b[0m\u001b[1;33m\u001b[0m\u001b[0m\n\u001b[0;32m   1036\u001b[0m \u001b[1;33m\u001b[0m\u001b[0m\n",
      "\u001b[1;32m~\\anaconda3\\lib\\site-packages\\gensim\\models\\word2vec.py\u001b[0m in \u001b[0;36m_check_training_sanity\u001b[1;34m(self, epochs, total_examples, total_words, **kwargs)\u001b[0m\n\u001b[0;32m   1522\u001b[0m \u001b[1;33m\u001b[0m\u001b[0m\n\u001b[0;32m   1523\u001b[0m         \u001b[1;32mif\u001b[0m \u001b[1;32mnot\u001b[0m \u001b[0mself\u001b[0m\u001b[1;33m.\u001b[0m\u001b[0mwv\u001b[0m\u001b[1;33m.\u001b[0m\u001b[0mkey_to_index\u001b[0m\u001b[1;33m:\u001b[0m  \u001b[1;31m# should be set by `build_vocab`\u001b[0m\u001b[1;33m\u001b[0m\u001b[1;33m\u001b[0m\u001b[0m\n\u001b[1;32m-> 1524\u001b[1;33m             \u001b[1;32mraise\u001b[0m \u001b[0mRuntimeError\u001b[0m\u001b[1;33m(\u001b[0m\u001b[1;34m\"you must first build vocabulary before training the model\"\u001b[0m\u001b[1;33m)\u001b[0m\u001b[1;33m\u001b[0m\u001b[1;33m\u001b[0m\u001b[0m\n\u001b[0m\u001b[0;32m   1525\u001b[0m         \u001b[1;32mif\u001b[0m \u001b[1;32mnot\u001b[0m \u001b[0mlen\u001b[0m\u001b[1;33m(\u001b[0m\u001b[0mself\u001b[0m\u001b[1;33m.\u001b[0m\u001b[0mwv\u001b[0m\u001b[1;33m.\u001b[0m\u001b[0mvectors\u001b[0m\u001b[1;33m)\u001b[0m\u001b[1;33m:\u001b[0m\u001b[1;33m\u001b[0m\u001b[1;33m\u001b[0m\u001b[0m\n\u001b[0;32m   1526\u001b[0m             \u001b[1;32mraise\u001b[0m \u001b[0mRuntimeError\u001b[0m\u001b[1;33m(\u001b[0m\u001b[1;34m\"you must initialize vectors before training the model\"\u001b[0m\u001b[1;33m)\u001b[0m\u001b[1;33m\u001b[0m\u001b[1;33m\u001b[0m\u001b[0m\n",
      "\u001b[1;31mRuntimeError\u001b[0m: you must first build vocabulary before training the model"
     ]
    }
   ],
   "source": [
    "# Word2Vec Models for each language\n",
    "\n",
    "# English\n",
    "model_en_lemma = Word2Vec(sentences=en_tokenizedlemma, min_count=1)\n",
    "model_en_lemma.save(\"word2vec_en_lemma.model\")\n",
    "\n",
    "#Fin\n",
    "#model_fi_lemma = Word2Vec(sentences=fi_tokenized_lemma, min_count=1)\n",
    "#model_fi_lemma.save(\"word2vec_fi_lemma.model\")\n",
    "\n",
    "#Chinese\n",
    "#model_zh_lemma = Word2Vec(sentences=zh_tokenized_lemma, min_count=1)\n",
    "#model_zh_lemma.save(\"word2vec_zh_lemma.model\")\n"
   ]
  },
  {
   "cell_type": "code",
   "execution_count": 17,
   "metadata": {},
   "outputs": [],
   "source": [
    "# Word2Vec Models for each language\n",
    "\n",
    "# English\n",
    "vec_en_lemma = model_en_lemma.wv\n",
    "vec_en_lemma.save(\"en_vectors_lemma.kv\")\n",
    "\n",
    "#Fin\n",
    "#vec_fi = model_fi.wv\n",
    "#vec_fi.save(\"fi_vectors.kv\")\n",
    "\n",
    "#Chi\n",
    "#vec_zh = model_zh.wv\n",
    "#vec_zh.save(\"zh_vectors.kv\")\n"
   ]
  }
 ]
}
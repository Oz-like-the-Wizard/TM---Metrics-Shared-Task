{
 "metadata": {
  "language_info": {
   "codemirror_mode": {
    "name": "ipython",
    "version": 3
   },
   "file_extension": ".py",
   "mimetype": "text/x-python",
   "name": "python",
   "nbconvert_exporter": "python",
   "pygments_lexer": "ipython3",
   "version": "3.8.5"
  },
  "orig_nbformat": 2,
  "kernelspec": {
   "name": "python385jvsc74a57bd092ba50c92c9dc11b366869717e90d544d23b7140e20708921d0ff91f276d2e3f",
   "display_name": "Python 3.8.5 64-bit ('base': conda)"
  }
 },
 "nbformat": 4,
 "nbformat_minor": 2,
 "cells": [
  {
   "cell_type": "code",
   "execution_count": 1,
   "metadata": {},
   "outputs": [],
   "source": [
    "# import all the necessary libraries\n",
    "\n",
    "from main import *\n",
    "import pandas as pd\n",
    "import re\n",
    "\n",
    "from nltk.corpus import stopwords\n",
    "from nltk.stem.wordnet import WordNetLemmatizer\n",
    "from nltk.tokenize import word_tokenize\n",
    "from nltk.corpus import wordnet\n",
    "from nltk.stem import SnowballStemmer\n",
    "from bs4 import BeautifulSoup\n",
    "import string\n",
    "\n",
    "# import all the necessary libraries\n",
    "from gensim.models import Word2Vec"
   ]
  },
  {
   "cell_type": "code",
   "execution_count": 2,
   "metadata": {},
   "outputs": [
    {
     "output_type": "stream",
     "name": "stderr",
     "text": [
      "C:\\Users\\oguzk\\anaconda3\\lib\\site-packages\\gensim\\similarities\\__init__.py:15: UserWarning: The gensim.similarities.levenshtein submodule is disabled, because the optional Levenshtein package <https://pypi.org/project/python-Levenshtein/> is unavailable. Install Levenhstein (e.g. `pip install python-Levenshtein`) to suppress this warning.\n  warnings.warn(msg)\n"
     ]
    }
   ],
   "source": []
  },
  {
   "cell_type": "code",
   "execution_count": 36,
   "metadata": {},
   "outputs": [],
   "source": [
    "# load all the translation files\n",
    "\n",
    "csen = pd.read_csv(\"corpus\\cs-en\\scores.csv\")\n"
   ]
  },
  {
   "cell_type": "code",
   "execution_count": 48,
   "metadata": {},
   "outputs": [],
   "source": [
    "# Preprocessing\n",
    "\n",
    "# Based on the target language a different preprocesing method is followed\n",
    "\n",
    "# English\n",
    "    #Czech\n",
    "csen = csen.drop([\"source\", \"annotators\"], axis=1)\n",
    "csen[\"pt\"] = not_that_clean(csen[\"translation\"], False, False)\n",
    "csen[\"ref\"] = not_that_clean(csen[\"reference\"], False, False)\n",
    "\n",
    "\n",
    "# Finnish\n",
    "\n",
    "# Chinese\n"
   ]
  },
  {
   "cell_type": "code",
   "execution_count": 52,
   "metadata": {},
   "outputs": [
    {
     "output_type": "execute_result",
     "data": {
      "text/plain": [
       "                                           reference  \\\n",
       "0  You will then grab the weapon between your for...   \n",
       "1  But if New York is changed, then it's also a r...   \n",
       "2  I have been thinking over and over again over ...   \n",
       "3          They find another way to cheat somewhere.   \n",
       "4  The report on the replacement of the president...   \n",
       "\n",
       "                                         translation   z-score  avg-score  \\\n",
       "0  You then grasp the gun between your forearm an... -0.675383  60.000000   \n",
       "1  But if New York is change, it is also reinvent... -0.829403  44.000000   \n",
       "2  I have thought long and hard over the course o...  0.803185  96.500000   \n",
       "3  They will find another way how to defraud others.  0.563149  90.500000   \n",
       "4  The news of the replacement at the top of the ...  0.021549  74.666667   \n",
       "\n",
       "                                                  pt  \\\n",
       "0  [you, then, grasp, the, gun, between, your, fo...   \n",
       "1  [but, if, new, york, is, change, it, is, also,...   \n",
       "2  [i, have, thought, long, and, hard, over, the,...   \n",
       "3  [they, will, find, another, way, how, to, defr...   \n",
       "4  [the, news, of, the, replacement, at, the, top...   \n",
       "\n",
       "                                                 ref  \n",
       "0  [you, will, then, grab, the, weapon, between, ...  \n",
       "1  [but, if, new, york, is, changed, then, it, s,...  \n",
       "2  [i, have, been, thinking, over, and, over, aga...  \n",
       "3   [they, find, another, way, to, cheat, somewhere]  \n",
       "4  [the, report, on, the, replacement, of, the, p...  "
      ],
      "text/html": "<div>\n<style scoped>\n    .dataframe tbody tr th:only-of-type {\n        vertical-align: middle;\n    }\n\n    .dataframe tbody tr th {\n        vertical-align: top;\n    }\n\n    .dataframe thead th {\n        text-align: right;\n    }\n</style>\n<table border=\"1\" class=\"dataframe\">\n  <thead>\n    <tr style=\"text-align: right;\">\n      <th></th>\n      <th>reference</th>\n      <th>translation</th>\n      <th>z-score</th>\n      <th>avg-score</th>\n      <th>pt</th>\n      <th>ref</th>\n    </tr>\n  </thead>\n  <tbody>\n    <tr>\n      <th>0</th>\n      <td>You will then grab the weapon between your for...</td>\n      <td>You then grasp the gun between your forearm an...</td>\n      <td>-0.675383</td>\n      <td>60.000000</td>\n      <td>[you, then, grasp, the, gun, between, your, fo...</td>\n      <td>[you, will, then, grab, the, weapon, between, ...</td>\n    </tr>\n    <tr>\n      <th>1</th>\n      <td>But if New York is changed, then it's also a r...</td>\n      <td>But if New York is change, it is also reinvent...</td>\n      <td>-0.829403</td>\n      <td>44.000000</td>\n      <td>[but, if, new, york, is, change, it, is, also,...</td>\n      <td>[but, if, new, york, is, changed, then, it, s,...</td>\n    </tr>\n    <tr>\n      <th>2</th>\n      <td>I have been thinking over and over again over ...</td>\n      <td>I have thought long and hard over the course o...</td>\n      <td>0.803185</td>\n      <td>96.500000</td>\n      <td>[i, have, thought, long, and, hard, over, the,...</td>\n      <td>[i, have, been, thinking, over, and, over, aga...</td>\n    </tr>\n    <tr>\n      <th>3</th>\n      <td>They find another way to cheat somewhere.</td>\n      <td>They will find another way how to defraud others.</td>\n      <td>0.563149</td>\n      <td>90.500000</td>\n      <td>[they, will, find, another, way, how, to, defr...</td>\n      <td>[they, find, another, way, to, cheat, somewhere]</td>\n    </tr>\n    <tr>\n      <th>4</th>\n      <td>The report on the replacement of the president...</td>\n      <td>The news of the replacement at the top of the ...</td>\n      <td>0.021549</td>\n      <td>74.666667</td>\n      <td>[the, news, of, the, replacement, at, the, top...</td>\n      <td>[the, report, on, the, replacement, of, the, p...</td>\n    </tr>\n  </tbody>\n</table>\n</div>"
     },
     "metadata": {},
     "execution_count": 52
    }
   ],
   "source": [
    "csen.head()"
   ]
  },
  {
   "cell_type": "code",
   "execution_count": 51,
   "metadata": {},
   "outputs": [],
   "source": [
    "import numpy as np\n",
    "\n",
    "def ngram_calc(pt, gt, mode=\"precision\", ngram=2):\n",
    "    ptgram = [\" \".join(pt[i:i+ngram]) for i in range(len(pt[:len(pt)-ngram+1]))]\n",
    "    gtgram = [\" \".join(gt[i:i+ngram]) for i in range(len(gt[:len(gt)-ngram+1]))]\n",
    "    if mode == \"precision\":\n",
    "        den = len(ptgram)\n",
    "        nom = 0\n",
    "        for j in ptgram:\n",
    "            if j in gtgram:\n",
    "                nom += 1\n",
    "                gtgram.remove(j)\n",
    "        try:\n",
    "            tot = nom/den\n",
    "        except ZeroDivisionError:\n",
    "             tot = 0\n",
    "        return tot\n",
    "    elif mode == \"recall\":\n",
    "        den = len(gtgram)\n",
    "        nom = 0\n",
    "        for j in gtgram:\n",
    "            if j in ptgram:\n",
    "                nom += 1\n",
    "                ptgram.remove(j)\n",
    "        try:\n",
    "            tot = nom/den\n",
    "        except ZeroDivisionError:\n",
    "             tot = 0\n",
    "        return tot"
   ]
  },
  {
   "cell_type": "code",
   "execution_count": 34,
   "metadata": {},
   "outputs": [],
   "source": [
    "def not_that_clean(text_list, lemmatize, stemmer):\n",
    "    \"\"\"\n",
    "    Function that a receives a list of strings and preprocesses it.\n",
    "    \n",
    "    :param text_list: List of strings.\n",
    "    :param lemmatize: Tag to apply lemmatization if True.\n",
    "    :param stemmer: Tag to apply the stemmer if True.\n",
    "    \"\"\"\n",
    "    stop = set(stopwords.words('english'))\n",
    "    lemma = WordNetLemmatizer()\n",
    "    snowball_stemmer = SnowballStemmer('english')\n",
    "    \n",
    "    updates = []\n",
    "    for j in range(len(text_list)):\n",
    "        \n",
    "        text = text_list[j]\n",
    "\n",
    "        text = text.lower()\n",
    "        text = re.sub(\"[^a-zA-Z]\", ' ', text)\n",
    "\n",
    "        text = word_tokenize(text)\n",
    "\n",
    "        # REMOVE STOP WORDS\n",
    "        #text = [word for word in text if word not in stop]\n",
    "\n",
    "        #LEMMATIZATION\n",
    "        if lemmatize:\n",
    "            text = [lemma.lemmatize(word) for word in text]\n",
    "        \n",
    "        #STEMMER\n",
    "        if stemmer:\n",
    "            text = [snowball_stemmer.stem(word) for word in text.split()]\n",
    "        \n",
    "        updates.append(text)\n",
    "        \n",
    "    return updates"
   ]
  },
  {
   "cell_type": "code",
   "execution_count": null,
   "metadata": {},
   "outputs": [],
   "source": [
    "def ngram_calc(pt, gt, mode=\"precision\", ngram=2):\n",
    "df['col_3'] = df.apply(lambda x: f(x.col_1, x.col_2), axis=1)"
   ]
  },
  {
   "cell_type": "code",
   "execution_count": 29,
   "metadata": {},
   "outputs": [],
   "source": [
    "csen[\"2gram\"] = csen.apply(lambda x: ngram_calc(x.pt, x.ref, ngram=2), axis=1)"
   ]
  },
  {
   "cell_type": "code",
   "execution_count": 32,
   "metadata": {},
   "outputs": [
    {
     "output_type": "execute_result",
     "data": {
      "text/plain": [
       "5"
      ]
     },
     "metadata": {},
     "execution_count": 32
    }
   ],
   "source": [
    "csen[\"2gram\"].isna().sum()"
   ]
  },
  {
   "cell_type": "code",
   "execution_count": 40,
   "metadata": {},
   "outputs": [
    {
     "output_type": "execute_result",
     "data": {
      "text/plain": [
       "12    557\n",
       "15    551\n",
       "11    518\n",
       "16    504\n",
       "17    491\n",
       "     ... \n",
       "56      4\n",
       "76      4\n",
       "46      4\n",
       "62      4\n",
       "71      4\n",
       "Name: pt, Length: 62, dtype: int64"
      ]
     },
     "metadata": {},
     "execution_count": 40
    }
   ],
   "source": [
    "csen.pt.apply(lambda x: len(x)).value_counts()"
   ]
  },
  {
   "cell_type": "code",
   "execution_count": 41,
   "metadata": {},
   "outputs": [
    {
     "output_type": "execute_result",
     "data": {
      "text/plain": [
       "                           source                 reference  \\\n",
       "22                To je k ničemu.           That's useless.   \n",
       "28           Zapomeň na vzrušení.    Forget the excitement.   \n",
       "51              Tolerantní město.            Tolerant city.   \n",
       "220    Hermannová: Byla zvláštní.  Hermann: It was strange.   \n",
       "371               Podobný případ.           A similar case.   \n",
       "...                           ...                       ...   \n",
       "11161          Ukrajinská armáda.           Ukrainian army.   \n",
       "11251             Banánové listy.            Banana leaves.   \n",
       "11313             Zlato číslo 22.           Gold number 22.   \n",
       "11371               Spíše naopak.      rather the opposite.   \n",
       "11468            Napsal Lanzmann.      Written by Lanzmann.   \n",
       "\n",
       "               translation   z-score   avg-score  annotators  \\\n",
       "22        That is useless.  0.606375   97.000000           2   \n",
       "28        Forget the hype.  0.111094   84.000000           2   \n",
       "51        A tolerant city.  0.907353   95.666667           3   \n",
       "220        It was strange.  0.662727   84.000000           2   \n",
       "371        A similar case.  1.062107  100.000000           1   \n",
       "...                    ...       ...         ...         ...   \n",
       "11161  The Ukrainian army.  0.797377   88.000000           1   \n",
       "11251       Banana leaves.  1.330578  100.000000           1   \n",
       "11313     Gold medal No 22 -1.982803   26.000000           1   \n",
       "11371  Quite the contrary.  1.123697  100.000000           2   \n",
       "11468      Lanzmann wrote.  0.953330   93.000000           1   \n",
       "\n",
       "                           pt                          ref  \n",
       "22        [that, is, useless]           [that, s, useless]  \n",
       "28        [forget, the, hype]    [forget, the, excitement]  \n",
       "51        [a, tolerant, city]             [tolerant, city]  \n",
       "220        [it, was, strange]  [hermann, it, was, strange]  \n",
       "371        [a, similar, case]           [a, similar, case]  \n",
       "...                       ...                          ...  \n",
       "11161  [the, ukrainian, army]            [ukrainian, army]  \n",
       "11251        [banana, leaves]             [banana, leaves]  \n",
       "11313       [gold, medal, no]               [gold, number]  \n",
       "11371  [quite, the, contrary]      [rather, the, opposite]  \n",
       "11468       [lanzmann, wrote]      [written, by, lanzmann]  \n",
       "\n",
       "[114 rows x 8 columns]"
      ],
      "text/html": "<div>\n<style scoped>\n    .dataframe tbody tr th:only-of-type {\n        vertical-align: middle;\n    }\n\n    .dataframe tbody tr th {\n        vertical-align: top;\n    }\n\n    .dataframe thead th {\n        text-align: right;\n    }\n</style>\n<table border=\"1\" class=\"dataframe\">\n  <thead>\n    <tr style=\"text-align: right;\">\n      <th></th>\n      <th>source</th>\n      <th>reference</th>\n      <th>translation</th>\n      <th>z-score</th>\n      <th>avg-score</th>\n      <th>annotators</th>\n      <th>pt</th>\n      <th>ref</th>\n    </tr>\n  </thead>\n  <tbody>\n    <tr>\n      <th>22</th>\n      <td>To je k ničemu.</td>\n      <td>That's useless.</td>\n      <td>That is useless.</td>\n      <td>0.606375</td>\n      <td>97.000000</td>\n      <td>2</td>\n      <td>[that, is, useless]</td>\n      <td>[that, s, useless]</td>\n    </tr>\n    <tr>\n      <th>28</th>\n      <td>Zapomeň na vzrušení.</td>\n      <td>Forget the excitement.</td>\n      <td>Forget the hype.</td>\n      <td>0.111094</td>\n      <td>84.000000</td>\n      <td>2</td>\n      <td>[forget, the, hype]</td>\n      <td>[forget, the, excitement]</td>\n    </tr>\n    <tr>\n      <th>51</th>\n      <td>Tolerantní město.</td>\n      <td>Tolerant city.</td>\n      <td>A tolerant city.</td>\n      <td>0.907353</td>\n      <td>95.666667</td>\n      <td>3</td>\n      <td>[a, tolerant, city]</td>\n      <td>[tolerant, city]</td>\n    </tr>\n    <tr>\n      <th>220</th>\n      <td>Hermannová: Byla zvláštní.</td>\n      <td>Hermann: It was strange.</td>\n      <td>It was strange.</td>\n      <td>0.662727</td>\n      <td>84.000000</td>\n      <td>2</td>\n      <td>[it, was, strange]</td>\n      <td>[hermann, it, was, strange]</td>\n    </tr>\n    <tr>\n      <th>371</th>\n      <td>Podobný případ.</td>\n      <td>A similar case.</td>\n      <td>A similar case.</td>\n      <td>1.062107</td>\n      <td>100.000000</td>\n      <td>1</td>\n      <td>[a, similar, case]</td>\n      <td>[a, similar, case]</td>\n    </tr>\n    <tr>\n      <th>...</th>\n      <td>...</td>\n      <td>...</td>\n      <td>...</td>\n      <td>...</td>\n      <td>...</td>\n      <td>...</td>\n      <td>...</td>\n      <td>...</td>\n    </tr>\n    <tr>\n      <th>11161</th>\n      <td>Ukrajinská armáda.</td>\n      <td>Ukrainian army.</td>\n      <td>The Ukrainian army.</td>\n      <td>0.797377</td>\n      <td>88.000000</td>\n      <td>1</td>\n      <td>[the, ukrainian, army]</td>\n      <td>[ukrainian, army]</td>\n    </tr>\n    <tr>\n      <th>11251</th>\n      <td>Banánové listy.</td>\n      <td>Banana leaves.</td>\n      <td>Banana leaves.</td>\n      <td>1.330578</td>\n      <td>100.000000</td>\n      <td>1</td>\n      <td>[banana, leaves]</td>\n      <td>[banana, leaves]</td>\n    </tr>\n    <tr>\n      <th>11313</th>\n      <td>Zlato číslo 22.</td>\n      <td>Gold number 22.</td>\n      <td>Gold medal No 22</td>\n      <td>-1.982803</td>\n      <td>26.000000</td>\n      <td>1</td>\n      <td>[gold, medal, no]</td>\n      <td>[gold, number]</td>\n    </tr>\n    <tr>\n      <th>11371</th>\n      <td>Spíše naopak.</td>\n      <td>rather the opposite.</td>\n      <td>Quite the contrary.</td>\n      <td>1.123697</td>\n      <td>100.000000</td>\n      <td>2</td>\n      <td>[quite, the, contrary]</td>\n      <td>[rather, the, opposite]</td>\n    </tr>\n    <tr>\n      <th>11468</th>\n      <td>Napsal Lanzmann.</td>\n      <td>Written by Lanzmann.</td>\n      <td>Lanzmann wrote.</td>\n      <td>0.953330</td>\n      <td>93.000000</td>\n      <td>1</td>\n      <td>[lanzmann, wrote]</td>\n      <td>[written, by, lanzmann]</td>\n    </tr>\n  </tbody>\n</table>\n<p>114 rows × 8 columns</p>\n</div>"
     },
     "metadata": {},
     "execution_count": 41
    }
   ],
   "source": [
    "csen[csen['pt'].map(len) <= 3]"
   ]
  },
  {
   "cell_type": "code",
   "execution_count": 34,
   "metadata": {},
   "outputs": [
    {
     "output_type": "execute_result",
     "data": {
      "text/plain": [
       "['The',\n",
       " 'monument',\n",
       " 'dignified',\n",
       " 'piecemeal',\n",
       " 'place',\n",
       " 'stands',\n",
       " 'history',\n",
       " 'practically',\n",
       " 'immediate',\n",
       " 'vicinity',\n",
       " 'tragedy',\n",
       " 'whoever',\n",
       " 'wants',\n",
       " 'may',\n",
       " 'bow',\n",
       " 'memory',\n",
       " 'sufferers',\n",
       " 'murdered']"
      ]
     },
     "metadata": {},
     "execution_count": 34
    }
   ],
   "source": [
    "df['Length'] = df['CreationDate'].str.len()"
   ]
  }
 ]
}
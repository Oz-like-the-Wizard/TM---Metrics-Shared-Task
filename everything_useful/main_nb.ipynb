{
 "metadata": {
  "language_info": {
   "codemirror_mode": {
    "name": "ipython",
    "version": 3
   },
   "file_extension": ".py",
   "mimetype": "text/x-python",
   "name": "python",
   "nbconvert_exporter": "python",
   "pygments_lexer": "ipython3",
   "version": "3.8.10"
  },
  "orig_nbformat": 2,
  "kernelspec": {
   "name": "python3810jvsc74a57bd092ba50c92c9dc11b366869717e90d544d23b7140e20708921d0ff91f276d2e3f",
   "display_name": "Python 3.8.5 64-bit ('base': conda)"
  }
 },
 "nbformat": 4,
 "nbformat_minor": 2,
 "cells": [
  {
   "cell_type": "code",
   "execution_count": 2,
   "metadata": {},
   "outputs": [],
   "source": [
    "import pandas as pd\n",
    "import os\n",
    "from main import *"
   ]
  },
  {
   "cell_type": "code",
   "execution_count": null,
   "metadata": {},
   "outputs": [],
   "source": [
    "#Load the data"
   ]
  },
  {
   "cell_type": "code",
   "execution_count": 34,
   "metadata": {},
   "outputs": [],
   "source": [
    "en_pairs = ['de-en', 'ru-en', 'zh-en']\n",
    "\n",
    "fi_df = pd.read_csv(\"corpus\\en-fi\\scores.csv\")\n",
    "zh_df = pd.read_csv(\"corpus\\en-zh\\scores.csv\")\n",
    "en_df = pd.read_csv(\"corpus\\cs-en\\scores.csv\")\n",
    "\n",
    "for pair in en_pairs:\n",
    "    new_df = pd.read_csv(os.path.join('corpus',pair, 'scores.csv'))\n",
    "    en_df = en_df.append(new_df, ignore_index=True)\n"
   ]
  },
  {
   "cell_type": "code",
   "execution_count": 35,
   "metadata": {},
   "outputs": [
    {
     "output_type": "execute_result",
     "data": {
      "text/plain": [
       "                                                  source  \\\n",
       "20000  Nach dem Brexit-Referendum ist es ungewiss, ob...   \n",
       "20001  Das Rudern an sich ist schon eine Herausforder...   \n",
       "20002  Dettori nimmt den Jubel auf, als er auf Predil...   \n",
       "20003  Durch die niedrigen Temperaturen läuft häufig ...   \n",
       "20004  Ihren Namen haben sie, weil sie scheinbar aus ...   \n",
       "\n",
       "                                               reference  \\\n",
       "20000  After the Brexit referendum, it is uncertain w...   \n",
       "20001  Rurowing in itself is already a challenge, but...   \n",
       "20002  Dettori takes the jubilee as he picks up victo...   \n",
       "20003  Due to low temperatures, the organism of the a...   \n",
       "20004  They have their name because they seem to come...   \n",
       "\n",
       "                                             translation   z-score  avg-score  \\\n",
       "20000  After the Brexit referendum it is unclear whet...  0.108148       96.0   \n",
       "20001  Rowing in itself is a journey but that makes i...  0.332057       98.0   \n",
       "20002  Dettori soaks up the cheers as he brings in Pr... -0.003806       95.0   \n",
       "20003  As a result of low temperatures, the systems o...  0.332057       98.0   \n",
       "20004  Their name refers to the fact that they seem t...  0.220102       97.0   \n",
       "\n",
       "       annotators  \n",
       "20000           2  \n",
       "20001           1  \n",
       "20002           1  \n",
       "20003           1  \n",
       "20004           1  "
      ],
      "text/html": "<div>\n<style scoped>\n    .dataframe tbody tr th:only-of-type {\n        vertical-align: middle;\n    }\n\n    .dataframe tbody tr th {\n        vertical-align: top;\n    }\n\n    .dataframe thead th {\n        text-align: right;\n    }\n</style>\n<table border=\"1\" class=\"dataframe\">\n  <thead>\n    <tr style=\"text-align: right;\">\n      <th></th>\n      <th>source</th>\n      <th>reference</th>\n      <th>translation</th>\n      <th>z-score</th>\n      <th>avg-score</th>\n      <th>annotators</th>\n    </tr>\n  </thead>\n  <tbody>\n    <tr>\n      <th>20000</th>\n      <td>Nach dem Brexit-Referendum ist es ungewiss, ob...</td>\n      <td>After the Brexit referendum, it is uncertain w...</td>\n      <td>After the Brexit referendum it is unclear whet...</td>\n      <td>0.108148</td>\n      <td>96.0</td>\n      <td>2</td>\n    </tr>\n    <tr>\n      <th>20001</th>\n      <td>Das Rudern an sich ist schon eine Herausforder...</td>\n      <td>Rurowing in itself is already a challenge, but...</td>\n      <td>Rowing in itself is a journey but that makes i...</td>\n      <td>0.332057</td>\n      <td>98.0</td>\n      <td>1</td>\n    </tr>\n    <tr>\n      <th>20002</th>\n      <td>Dettori nimmt den Jubel auf, als er auf Predil...</td>\n      <td>Dettori takes the jubilee as he picks up victo...</td>\n      <td>Dettori soaks up the cheers as he brings in Pr...</td>\n      <td>-0.003806</td>\n      <td>95.0</td>\n      <td>1</td>\n    </tr>\n    <tr>\n      <th>20003</th>\n      <td>Durch die niedrigen Temperaturen läuft häufig ...</td>\n      <td>Due to low temperatures, the organism of the a...</td>\n      <td>As a result of low temperatures, the systems o...</td>\n      <td>0.332057</td>\n      <td>98.0</td>\n      <td>1</td>\n    </tr>\n    <tr>\n      <th>20004</th>\n      <td>Ihren Namen haben sie, weil sie scheinbar aus ...</td>\n      <td>They have their name because they seem to come...</td>\n      <td>Their name refers to the fact that they seem t...</td>\n      <td>0.220102</td>\n      <td>97.0</td>\n      <td>1</td>\n    </tr>\n  </tbody>\n</table>\n</div>"
     },
     "metadata": {},
     "execution_count": 35
    }
   ],
   "source": [
    "en_df.iloc[20000:20005]"
   ]
  },
  {
   "cell_type": "code",
   "execution_count": null,
   "metadata": {},
   "outputs": [],
   "source": [
    "# Preprocessing"
   ]
  },
  {
   "cell_type": "code",
   "execution_count": 37,
   "metadata": {},
   "outputs": [
    {
     "output_type": "stream",
     "name": "stderr",
     "text": [
      "77688it [03:50, 336.57it/s]\n",
      "77688it [03:41, 351.43it/s]\n"
     ]
    }
   ],
   "source": [
    "en_df = the_preprocessor(en_df, lang=\"en\")"
   ]
  },
  {
   "cell_type": "code",
   "execution_count": 38,
   "metadata": {},
   "outputs": [
    {
     "output_type": "execute_result",
     "data": {
      "text/plain": [
       "                                              source   z-score  \\\n",
       "0  Uchopíte pak zbraň mezi své předloktí a rameno... -0.675383   \n",
       "1  Ale je-li New York změna, pak je to také znovu... -0.829403   \n",
       "2  Dlouho a intenzivně jsem během léta přemýšlel,...  0.803185   \n",
       "3         Najdou si jiný způsob, jak někde podvádět.  0.563149   \n",
       "4  Zpráva o výměně v čele prezidentovy administra...  0.021549   \n",
       "\n",
       "                                                  pt  \\\n",
       "0  [you, then, grasp, the, gun, between, your, fo...   \n",
       "1  [but, if, new, york, is, change, it, is, also,...   \n",
       "2  [i, have, thought, long, and, hard, over, the,...   \n",
       "3  [they, will, find, another, way, how, to, defr...   \n",
       "4  [the, news, of, the, replacement, at, the, top...   \n",
       "\n",
       "                                                 ref  1gram-precision  \\\n",
       "0  [you, will, then, grab, the, weapon, between, ...         0.750000   \n",
       "1  [but, if, new, york, is, changed, then, it, 's...         0.700000   \n",
       "2  [i, have, been, thinking, over, and, over, aga...         0.636364   \n",
       "3   [they, find, another, way, to, cheat, somewhere]         0.555556   \n",
       "4  [the, report, on, the, replacement, of, the, p...         0.370370   \n",
       "\n",
       "   2gram-precision  3gram-precision  4gram-precision  1gram-recall  \\\n",
       "0         0.315789         0.166667         0.117647      0.652174   \n",
       "1         0.444444         0.375000         0.285714      0.583333   \n",
       "2         0.437500         0.258065         0.200000      0.724138   \n",
       "3         0.250000         0.142857         0.000000      0.714286   \n",
       "4         0.153846         0.080000         0.041667      0.454545   \n",
       "\n",
       "   2gram-recall  3gram-recall  4gram-recall    wmdist  pt_len  ref_len  \n",
       "0      0.272727      0.142857      0.100000  0.376218      20       23  \n",
       "1      0.363636      0.300000      0.222222  0.533093      10       12  \n",
       "2      0.500000      0.296296      0.230769  0.411109      33       29  \n",
       "3      0.333333      0.200000      0.000000  0.489097       9        7  \n",
       "4      0.190476      0.100000      0.052632  0.719761      27       22  "
      ],
      "text/html": "<div>\n<style scoped>\n    .dataframe tbody tr th:only-of-type {\n        vertical-align: middle;\n    }\n\n    .dataframe tbody tr th {\n        vertical-align: top;\n    }\n\n    .dataframe thead th {\n        text-align: right;\n    }\n</style>\n<table border=\"1\" class=\"dataframe\">\n  <thead>\n    <tr style=\"text-align: right;\">\n      <th></th>\n      <th>source</th>\n      <th>z-score</th>\n      <th>pt</th>\n      <th>ref</th>\n      <th>1gram-precision</th>\n      <th>2gram-precision</th>\n      <th>3gram-precision</th>\n      <th>4gram-precision</th>\n      <th>1gram-recall</th>\n      <th>2gram-recall</th>\n      <th>3gram-recall</th>\n      <th>4gram-recall</th>\n      <th>wmdist</th>\n      <th>pt_len</th>\n      <th>ref_len</th>\n    </tr>\n  </thead>\n  <tbody>\n    <tr>\n      <th>0</th>\n      <td>Uchopíte pak zbraň mezi své předloktí a rameno...</td>\n      <td>-0.675383</td>\n      <td>[you, then, grasp, the, gun, between, your, fo...</td>\n      <td>[you, will, then, grab, the, weapon, between, ...</td>\n      <td>0.750000</td>\n      <td>0.315789</td>\n      <td>0.166667</td>\n      <td>0.117647</td>\n      <td>0.652174</td>\n      <td>0.272727</td>\n      <td>0.142857</td>\n      <td>0.100000</td>\n      <td>0.376218</td>\n      <td>20</td>\n      <td>23</td>\n    </tr>\n    <tr>\n      <th>1</th>\n      <td>Ale je-li New York změna, pak je to také znovu...</td>\n      <td>-0.829403</td>\n      <td>[but, if, new, york, is, change, it, is, also,...</td>\n      <td>[but, if, new, york, is, changed, then, it, 's...</td>\n      <td>0.700000</td>\n      <td>0.444444</td>\n      <td>0.375000</td>\n      <td>0.285714</td>\n      <td>0.583333</td>\n      <td>0.363636</td>\n      <td>0.300000</td>\n      <td>0.222222</td>\n      <td>0.533093</td>\n      <td>10</td>\n      <td>12</td>\n    </tr>\n    <tr>\n      <th>2</th>\n      <td>Dlouho a intenzivně jsem během léta přemýšlel,...</td>\n      <td>0.803185</td>\n      <td>[i, have, thought, long, and, hard, over, the,...</td>\n      <td>[i, have, been, thinking, over, and, over, aga...</td>\n      <td>0.636364</td>\n      <td>0.437500</td>\n      <td>0.258065</td>\n      <td>0.200000</td>\n      <td>0.724138</td>\n      <td>0.500000</td>\n      <td>0.296296</td>\n      <td>0.230769</td>\n      <td>0.411109</td>\n      <td>33</td>\n      <td>29</td>\n    </tr>\n    <tr>\n      <th>3</th>\n      <td>Najdou si jiný způsob, jak někde podvádět.</td>\n      <td>0.563149</td>\n      <td>[they, will, find, another, way, how, to, defr...</td>\n      <td>[they, find, another, way, to, cheat, somewhere]</td>\n      <td>0.555556</td>\n      <td>0.250000</td>\n      <td>0.142857</td>\n      <td>0.000000</td>\n      <td>0.714286</td>\n      <td>0.333333</td>\n      <td>0.200000</td>\n      <td>0.000000</td>\n      <td>0.489097</td>\n      <td>9</td>\n      <td>7</td>\n    </tr>\n    <tr>\n      <th>4</th>\n      <td>Zpráva o výměně v čele prezidentovy administra...</td>\n      <td>0.021549</td>\n      <td>[the, news, of, the, replacement, at, the, top...</td>\n      <td>[the, report, on, the, replacement, of, the, p...</td>\n      <td>0.370370</td>\n      <td>0.153846</td>\n      <td>0.080000</td>\n      <td>0.041667</td>\n      <td>0.454545</td>\n      <td>0.190476</td>\n      <td>0.100000</td>\n      <td>0.052632</td>\n      <td>0.719761</td>\n      <td>27</td>\n      <td>22</td>\n    </tr>\n  </tbody>\n</table>\n</div>"
     },
     "metadata": {},
     "execution_count": 38
    }
   ],
   "source": [
    "en_df.head()"
   ]
  },
  {
   "cell_type": "code",
   "execution_count": 40,
   "metadata": {},
   "outputs": [
    {
     "output_type": "stream",
     "name": "stderr",
     "text": [
      "6748it [00:02, 2903.74it/s]\n",
      "6748it [00:03, 2105.42it/s]\n"
     ]
    }
   ],
   "source": [
    "fi_df = the_preprocessor(fin_df, lang=\"fi\")"
   ]
  },
  {
   "cell_type": "code",
   "execution_count": 41,
   "metadata": {},
   "outputs": [
    {
     "output_type": "stream",
     "name": "stderr",
     "text": [
      "10221it [00:51, 199.65it/s]\n",
      "10221it [00:49, 207.13it/s]\n"
     ]
    }
   ],
   "source": [
    "zh_df = the_preprocessor(zh_df, \"zh\")"
   ]
  },
  {
   "cell_type": "code",
   "execution_count": null,
   "metadata": {},
   "outputs": [],
   "source": [
    "#Concat all ready for NN"
   ]
  },
  {
   "cell_type": "code",
   "execution_count": 42,
   "metadata": {},
   "outputs": [],
   "source": [
    "total_df = en_df.append(fi_df, ignore_index=True) "
   ]
  },
  {
   "cell_type": "code",
   "execution_count": 43,
   "metadata": {},
   "outputs": [],
   "source": [
    "total_df = total_df.append(zh_df, ignore_index=True)"
   ]
  },
  {
   "cell_type": "code",
   "execution_count": 75,
   "metadata": {},
   "outputs": [],
   "source": [
    "#Get the data ready for NN \n",
    "\n",
    "# final nan check \n",
    "total_df = total_df.replace(np.inf, np.nan)\n",
    "total_df = total_df.dropna()\n",
    "\n",
    "# data, target\n",
    "target = total_df[\"z-score\"]\n",
    "X = total_df.drop([\"source\",\"z-score\",\"pt\",\"ref\"], axis=1)\n",
    "\n",
    "\n",
    "# standard scaler\n",
    "from sklearn.preprocessing import StandardScaler\n",
    "sscaler = StandardScaler()\n",
    "X_ss = sscaler.fit_transform(X)\n",
    "\n",
    "# train-test-split\n",
    "from sklearn.model_selection import train_test_split\n",
    "X_train, X_test, y_train, y_test = train_test_split(X, target, test_size=0.20, random_state=23)\n",
    "\n",
    "#create_model\n",
    "nnn = [11, 64, 128, 64, 1]\n",
    "my_model = create_model(nnn)\n",
    "my_model.summary()\n",
    "\n"
   ]
  },
  {
   "cell_type": "code",
   "execution_count": 98,
   "metadata": {},
   "outputs": [
    {
     "output_type": "stream",
     "name": "stdout",
     "text": [
      "Epoch 1/500\n",
      "4733/4733 [==============================] - 7s 2ms/step - loss: 0.7062 - mae: 0.6638\n",
      "Epoch 2/500\n",
      "4733/4733 [==============================] - 5s 1ms/step - loss: 0.6759 - mae: 0.6498\n",
      "Epoch 3/500\n",
      "4733/4733 [==============================] - 5s 1ms/step - loss: 0.6729 - mae: 0.6481\n",
      "Epoch 4/500\n",
      "4733/4733 [==============================] - 4s 894us/step - loss: 0.6694 - mae: 0.6459\n",
      "Epoch 5/500\n",
      "4733/4733 [==============================] - 5s 1ms/step - loss: 0.6704 - mae: 0.6449\n",
      "Epoch 6/500\n",
      "4733/4733 [==============================] - 5s 1ms/step - loss: 0.6663 - mae: 0.6442\n",
      "Epoch 7/500\n",
      "4733/4733 [==============================] - 5s 1ms/step - loss: 0.6663 - mae: 0.6441\n",
      "Epoch 8/500\n",
      "4733/4733 [==============================] - 5s 1ms/step - loss: 0.6644 - mae: 0.6428\n",
      "Epoch 9/500\n",
      "4733/4733 [==============================] - 6s 1ms/step - loss: 0.6640 - mae: 0.6424\n",
      "Epoch 10/500\n",
      "4733/4733 [==============================] - 4s 889us/step - loss: 0.6632 - mae: 0.6421\n",
      "Epoch 11/500\n",
      "4733/4733 [==============================] - 5s 1ms/step - loss: 0.6629 - mae: 0.6420\n",
      "Epoch 12/500\n",
      "4733/4733 [==============================] - 4s 901us/step - loss: 0.6640 - mae: 0.6427\n",
      "Epoch 13/500\n",
      "4733/4733 [==============================] - 4s 820us/step - loss: 0.6622 - mae: 0.6418\n",
      "Epoch 14/500\n",
      "4733/4733 [==============================] - 4s 930us/step - loss: 0.6625 - mae: 0.6419\n",
      "Epoch 15/500\n",
      "4733/4733 [==============================] - 5s 1ms/step - loss: 0.6626 - mae: 0.6419\n",
      "Epoch 16/500\n",
      "4733/4733 [==============================] - 4s 802us/step - loss: 0.6628 - mae: 0.6422\n",
      "Epoch 17/500\n",
      "4733/4733 [==============================] - 4s 943us/step - loss: 0.6621 - mae: 0.6416\n",
      "Epoch 18/500\n",
      "4210/4733 [=========================>....] - ETA: 0s - loss: 0.6611 - mae: 0.6409"
     ]
    },
    {
     "output_type": "error",
     "ename": "KeyboardInterrupt",
     "evalue": "",
     "traceback": [
      "\u001b[1;31m---------------------------------------------------------------------------\u001b[0m",
      "\u001b[1;31mKeyboardInterrupt\u001b[0m                         Traceback (most recent call last)",
      "\u001b[1;32m<ipython-input-98-4de0d8708a4f>\u001b[0m in \u001b[0;36m<module>\u001b[1;34m\u001b[0m\n\u001b[1;32m----> 1\u001b[1;33m \u001b[0mmy_model\u001b[0m\u001b[1;33m.\u001b[0m\u001b[0mfit\u001b[0m\u001b[1;33m(\u001b[0m\u001b[0mX_train\u001b[0m\u001b[1;33m,\u001b[0m \u001b[0my_train\u001b[0m\u001b[1;33m,\u001b[0m \u001b[0mepochs\u001b[0m\u001b[1;33m=\u001b[0m\u001b[1;36m500\u001b[0m\u001b[1;33m,\u001b[0m \u001b[0mbatch_size\u001b[0m\u001b[1;33m=\u001b[0m\u001b[1;36m16\u001b[0m\u001b[1;33m)\u001b[0m\u001b[1;33m\u001b[0m\u001b[1;33m\u001b[0m\u001b[0m\n\u001b[0m",
      "\u001b[1;32m~\\anaconda3\\lib\\site-packages\\tensorflow\\python\\keras\\engine\\training.py\u001b[0m in \u001b[0;36m_method_wrapper\u001b[1;34m(self, *args, **kwargs)\u001b[0m\n\u001b[0;32m    106\u001b[0m   \u001b[1;32mdef\u001b[0m \u001b[0m_method_wrapper\u001b[0m\u001b[1;33m(\u001b[0m\u001b[0mself\u001b[0m\u001b[1;33m,\u001b[0m \u001b[1;33m*\u001b[0m\u001b[0margs\u001b[0m\u001b[1;33m,\u001b[0m \u001b[1;33m**\u001b[0m\u001b[0mkwargs\u001b[0m\u001b[1;33m)\u001b[0m\u001b[1;33m:\u001b[0m\u001b[1;33m\u001b[0m\u001b[1;33m\u001b[0m\u001b[0m\n\u001b[0;32m    107\u001b[0m     \u001b[1;32mif\u001b[0m \u001b[1;32mnot\u001b[0m \u001b[0mself\u001b[0m\u001b[1;33m.\u001b[0m\u001b[0m_in_multi_worker_mode\u001b[0m\u001b[1;33m(\u001b[0m\u001b[1;33m)\u001b[0m\u001b[1;33m:\u001b[0m  \u001b[1;31m# pylint: disable=protected-access\u001b[0m\u001b[1;33m\u001b[0m\u001b[1;33m\u001b[0m\u001b[0m\n\u001b[1;32m--> 108\u001b[1;33m       \u001b[1;32mreturn\u001b[0m \u001b[0mmethod\u001b[0m\u001b[1;33m(\u001b[0m\u001b[0mself\u001b[0m\u001b[1;33m,\u001b[0m \u001b[1;33m*\u001b[0m\u001b[0margs\u001b[0m\u001b[1;33m,\u001b[0m \u001b[1;33m**\u001b[0m\u001b[0mkwargs\u001b[0m\u001b[1;33m)\u001b[0m\u001b[1;33m\u001b[0m\u001b[1;33m\u001b[0m\u001b[0m\n\u001b[0m\u001b[0;32m    109\u001b[0m \u001b[1;33m\u001b[0m\u001b[0m\n\u001b[0;32m    110\u001b[0m     \u001b[1;31m# Running inside `run_distribute_coordinator` already.\u001b[0m\u001b[1;33m\u001b[0m\u001b[1;33m\u001b[0m\u001b[1;33m\u001b[0m\u001b[0m\n",
      "\u001b[1;32m~\\anaconda3\\lib\\site-packages\\tensorflow\\python\\keras\\engine\\training.py\u001b[0m in \u001b[0;36mfit\u001b[1;34m(self, x, y, batch_size, epochs, verbose, callbacks, validation_split, validation_data, shuffle, class_weight, sample_weight, initial_epoch, steps_per_epoch, validation_steps, validation_batch_size, validation_freq, max_queue_size, workers, use_multiprocessing)\u001b[0m\n\u001b[0;32m   1096\u001b[0m                 batch_size=batch_size):\n\u001b[0;32m   1097\u001b[0m               \u001b[0mcallbacks\u001b[0m\u001b[1;33m.\u001b[0m\u001b[0mon_train_batch_begin\u001b[0m\u001b[1;33m(\u001b[0m\u001b[0mstep\u001b[0m\u001b[1;33m)\u001b[0m\u001b[1;33m\u001b[0m\u001b[1;33m\u001b[0m\u001b[0m\n\u001b[1;32m-> 1098\u001b[1;33m               \u001b[0mtmp_logs\u001b[0m \u001b[1;33m=\u001b[0m \u001b[0mtrain_function\u001b[0m\u001b[1;33m(\u001b[0m\u001b[0miterator\u001b[0m\u001b[1;33m)\u001b[0m\u001b[1;33m\u001b[0m\u001b[1;33m\u001b[0m\u001b[0m\n\u001b[0m\u001b[0;32m   1099\u001b[0m               \u001b[1;32mif\u001b[0m \u001b[0mdata_handler\u001b[0m\u001b[1;33m.\u001b[0m\u001b[0mshould_sync\u001b[0m\u001b[1;33m:\u001b[0m\u001b[1;33m\u001b[0m\u001b[1;33m\u001b[0m\u001b[0m\n\u001b[0;32m   1100\u001b[0m                 \u001b[0mcontext\u001b[0m\u001b[1;33m.\u001b[0m\u001b[0masync_wait\u001b[0m\u001b[1;33m(\u001b[0m\u001b[1;33m)\u001b[0m\u001b[1;33m\u001b[0m\u001b[1;33m\u001b[0m\u001b[0m\n",
      "\u001b[1;32m~\\anaconda3\\lib\\site-packages\\tensorflow\\python\\eager\\def_function.py\u001b[0m in \u001b[0;36m__call__\u001b[1;34m(self, *args, **kwds)\u001b[0m\n\u001b[0;32m    778\u001b[0m       \u001b[1;32melse\u001b[0m\u001b[1;33m:\u001b[0m\u001b[1;33m\u001b[0m\u001b[1;33m\u001b[0m\u001b[0m\n\u001b[0;32m    779\u001b[0m         \u001b[0mcompiler\u001b[0m \u001b[1;33m=\u001b[0m \u001b[1;34m\"nonXla\"\u001b[0m\u001b[1;33m\u001b[0m\u001b[1;33m\u001b[0m\u001b[0m\n\u001b[1;32m--> 780\u001b[1;33m         \u001b[0mresult\u001b[0m \u001b[1;33m=\u001b[0m \u001b[0mself\u001b[0m\u001b[1;33m.\u001b[0m\u001b[0m_call\u001b[0m\u001b[1;33m(\u001b[0m\u001b[1;33m*\u001b[0m\u001b[0margs\u001b[0m\u001b[1;33m,\u001b[0m \u001b[1;33m**\u001b[0m\u001b[0mkwds\u001b[0m\u001b[1;33m)\u001b[0m\u001b[1;33m\u001b[0m\u001b[1;33m\u001b[0m\u001b[0m\n\u001b[0m\u001b[0;32m    781\u001b[0m \u001b[1;33m\u001b[0m\u001b[0m\n\u001b[0;32m    782\u001b[0m       \u001b[0mnew_tracing_count\u001b[0m \u001b[1;33m=\u001b[0m \u001b[0mself\u001b[0m\u001b[1;33m.\u001b[0m\u001b[0m_get_tracing_count\u001b[0m\u001b[1;33m(\u001b[0m\u001b[1;33m)\u001b[0m\u001b[1;33m\u001b[0m\u001b[1;33m\u001b[0m\u001b[0m\n",
      "\u001b[1;32m~\\anaconda3\\lib\\site-packages\\tensorflow\\python\\eager\\def_function.py\u001b[0m in \u001b[0;36m_call\u001b[1;34m(self, *args, **kwds)\u001b[0m\n\u001b[0;32m    805\u001b[0m       \u001b[1;31m# In this case we have created variables on the first call, so we run the\u001b[0m\u001b[1;33m\u001b[0m\u001b[1;33m\u001b[0m\u001b[1;33m\u001b[0m\u001b[0m\n\u001b[0;32m    806\u001b[0m       \u001b[1;31m# defunned version which is guaranteed to never create variables.\u001b[0m\u001b[1;33m\u001b[0m\u001b[1;33m\u001b[0m\u001b[1;33m\u001b[0m\u001b[0m\n\u001b[1;32m--> 807\u001b[1;33m       \u001b[1;32mreturn\u001b[0m \u001b[0mself\u001b[0m\u001b[1;33m.\u001b[0m\u001b[0m_stateless_fn\u001b[0m\u001b[1;33m(\u001b[0m\u001b[1;33m*\u001b[0m\u001b[0margs\u001b[0m\u001b[1;33m,\u001b[0m \u001b[1;33m**\u001b[0m\u001b[0mkwds\u001b[0m\u001b[1;33m)\u001b[0m  \u001b[1;31m# pylint: disable=not-callable\u001b[0m\u001b[1;33m\u001b[0m\u001b[1;33m\u001b[0m\u001b[0m\n\u001b[0m\u001b[0;32m    808\u001b[0m     \u001b[1;32melif\u001b[0m \u001b[0mself\u001b[0m\u001b[1;33m.\u001b[0m\u001b[0m_stateful_fn\u001b[0m \u001b[1;32mis\u001b[0m \u001b[1;32mnot\u001b[0m \u001b[1;32mNone\u001b[0m\u001b[1;33m:\u001b[0m\u001b[1;33m\u001b[0m\u001b[1;33m\u001b[0m\u001b[0m\n\u001b[0;32m    809\u001b[0m       \u001b[1;31m# Release the lock early so that multiple threads can perform the call\u001b[0m\u001b[1;33m\u001b[0m\u001b[1;33m\u001b[0m\u001b[1;33m\u001b[0m\u001b[0m\n",
      "\u001b[1;32m~\\anaconda3\\lib\\site-packages\\tensorflow\\python\\eager\\function.py\u001b[0m in \u001b[0;36m__call__\u001b[1;34m(self, *args, **kwargs)\u001b[0m\n\u001b[0;32m   2827\u001b[0m     \u001b[1;32mwith\u001b[0m \u001b[0mself\u001b[0m\u001b[1;33m.\u001b[0m\u001b[0m_lock\u001b[0m\u001b[1;33m:\u001b[0m\u001b[1;33m\u001b[0m\u001b[1;33m\u001b[0m\u001b[0m\n\u001b[0;32m   2828\u001b[0m       \u001b[0mgraph_function\u001b[0m\u001b[1;33m,\u001b[0m \u001b[0margs\u001b[0m\u001b[1;33m,\u001b[0m \u001b[0mkwargs\u001b[0m \u001b[1;33m=\u001b[0m \u001b[0mself\u001b[0m\u001b[1;33m.\u001b[0m\u001b[0m_maybe_define_function\u001b[0m\u001b[1;33m(\u001b[0m\u001b[0margs\u001b[0m\u001b[1;33m,\u001b[0m \u001b[0mkwargs\u001b[0m\u001b[1;33m)\u001b[0m\u001b[1;33m\u001b[0m\u001b[1;33m\u001b[0m\u001b[0m\n\u001b[1;32m-> 2829\u001b[1;33m     \u001b[1;32mreturn\u001b[0m \u001b[0mgraph_function\u001b[0m\u001b[1;33m.\u001b[0m\u001b[0m_filtered_call\u001b[0m\u001b[1;33m(\u001b[0m\u001b[0margs\u001b[0m\u001b[1;33m,\u001b[0m \u001b[0mkwargs\u001b[0m\u001b[1;33m)\u001b[0m  \u001b[1;31m# pylint: disable=protected-access\u001b[0m\u001b[1;33m\u001b[0m\u001b[1;33m\u001b[0m\u001b[0m\n\u001b[0m\u001b[0;32m   2830\u001b[0m \u001b[1;33m\u001b[0m\u001b[0m\n\u001b[0;32m   2831\u001b[0m   \u001b[1;33m@\u001b[0m\u001b[0mproperty\u001b[0m\u001b[1;33m\u001b[0m\u001b[1;33m\u001b[0m\u001b[0m\n",
      "\u001b[1;32m~\\anaconda3\\lib\\site-packages\\tensorflow\\python\\eager\\function.py\u001b[0m in \u001b[0;36m_filtered_call\u001b[1;34m(self, args, kwargs, cancellation_manager)\u001b[0m\n\u001b[0;32m   1841\u001b[0m       \u001b[0;31m`\u001b[0m\u001b[0margs\u001b[0m\u001b[0;31m`\u001b[0m \u001b[1;32mand\u001b[0m\u001b[0;31m \u001b[0m\u001b[0;31m`\u001b[0m\u001b[0mkwargs\u001b[0m\u001b[0;31m`\u001b[0m\u001b[1;33m.\u001b[0m\u001b[1;33m\u001b[0m\u001b[1;33m\u001b[0m\u001b[0m\n\u001b[0;32m   1842\u001b[0m     \"\"\"\n\u001b[1;32m-> 1843\u001b[1;33m     return self._call_flat(\n\u001b[0m\u001b[0;32m   1844\u001b[0m         [t for t in nest.flatten((args, kwargs), expand_composites=True)\n\u001b[0;32m   1845\u001b[0m          if isinstance(t, (ops.Tensor,\n",
      "\u001b[1;32m~\\anaconda3\\lib\\site-packages\\tensorflow\\python\\eager\\function.py\u001b[0m in \u001b[0;36m_call_flat\u001b[1;34m(self, args, captured_inputs, cancellation_manager)\u001b[0m\n\u001b[0;32m   1921\u001b[0m         and executing_eagerly):\n\u001b[0;32m   1922\u001b[0m       \u001b[1;31m# No tape is watching; skip to running the function.\u001b[0m\u001b[1;33m\u001b[0m\u001b[1;33m\u001b[0m\u001b[1;33m\u001b[0m\u001b[0m\n\u001b[1;32m-> 1923\u001b[1;33m       return self._build_call_outputs(self._inference_function.call(\n\u001b[0m\u001b[0;32m   1924\u001b[0m           ctx, args, cancellation_manager=cancellation_manager))\n\u001b[0;32m   1925\u001b[0m     forward_backward = self._select_forward_and_backward_functions(\n",
      "\u001b[1;32m~\\anaconda3\\lib\\site-packages\\tensorflow\\python\\eager\\function.py\u001b[0m in \u001b[0;36mcall\u001b[1;34m(self, ctx, args, cancellation_manager)\u001b[0m\n\u001b[0;32m    543\u001b[0m       \u001b[1;32mwith\u001b[0m \u001b[0m_InterpolateFunctionError\u001b[0m\u001b[1;33m(\u001b[0m\u001b[0mself\u001b[0m\u001b[1;33m)\u001b[0m\u001b[1;33m:\u001b[0m\u001b[1;33m\u001b[0m\u001b[1;33m\u001b[0m\u001b[0m\n\u001b[0;32m    544\u001b[0m         \u001b[1;32mif\u001b[0m \u001b[0mcancellation_manager\u001b[0m \u001b[1;32mis\u001b[0m \u001b[1;32mNone\u001b[0m\u001b[1;33m:\u001b[0m\u001b[1;33m\u001b[0m\u001b[1;33m\u001b[0m\u001b[0m\n\u001b[1;32m--> 545\u001b[1;33m           outputs = execute.execute(\n\u001b[0m\u001b[0;32m    546\u001b[0m               \u001b[0mstr\u001b[0m\u001b[1;33m(\u001b[0m\u001b[0mself\u001b[0m\u001b[1;33m.\u001b[0m\u001b[0msignature\u001b[0m\u001b[1;33m.\u001b[0m\u001b[0mname\u001b[0m\u001b[1;33m)\u001b[0m\u001b[1;33m,\u001b[0m\u001b[1;33m\u001b[0m\u001b[1;33m\u001b[0m\u001b[0m\n\u001b[0;32m    547\u001b[0m               \u001b[0mnum_outputs\u001b[0m\u001b[1;33m=\u001b[0m\u001b[0mself\u001b[0m\u001b[1;33m.\u001b[0m\u001b[0m_num_outputs\u001b[0m\u001b[1;33m,\u001b[0m\u001b[1;33m\u001b[0m\u001b[1;33m\u001b[0m\u001b[0m\n",
      "\u001b[1;32m~\\anaconda3\\lib\\site-packages\\tensorflow\\python\\eager\\execute.py\u001b[0m in \u001b[0;36mquick_execute\u001b[1;34m(op_name, num_outputs, inputs, attrs, ctx, name)\u001b[0m\n\u001b[0;32m     57\u001b[0m   \u001b[1;32mtry\u001b[0m\u001b[1;33m:\u001b[0m\u001b[1;33m\u001b[0m\u001b[1;33m\u001b[0m\u001b[0m\n\u001b[0;32m     58\u001b[0m     \u001b[0mctx\u001b[0m\u001b[1;33m.\u001b[0m\u001b[0mensure_initialized\u001b[0m\u001b[1;33m(\u001b[0m\u001b[1;33m)\u001b[0m\u001b[1;33m\u001b[0m\u001b[1;33m\u001b[0m\u001b[0m\n\u001b[1;32m---> 59\u001b[1;33m     tensors = pywrap_tfe.TFE_Py_Execute(ctx._handle, device_name, op_name,\n\u001b[0m\u001b[0;32m     60\u001b[0m                                         inputs, attrs, num_outputs)\n\u001b[0;32m     61\u001b[0m   \u001b[1;32mexcept\u001b[0m \u001b[0mcore\u001b[0m\u001b[1;33m.\u001b[0m\u001b[0m_NotOkStatusException\u001b[0m \u001b[1;32mas\u001b[0m \u001b[0me\u001b[0m\u001b[1;33m:\u001b[0m\u001b[1;33m\u001b[0m\u001b[1;33m\u001b[0m\u001b[0m\n",
      "\u001b[1;31mKeyboardInterrupt\u001b[0m: "
     ]
    }
   ],
   "source": [
    "history = my_model.fit(X_train, y_train, epochs=500, batch_size=16)"
   ]
  },
  {
   "cell_type": "code",
   "execution_count": 86,
   "metadata": {},
   "outputs": [
    {
     "output_type": "stream",
     "name": "stdout",
     "text": [
      "592/592 [==============================] - 0s 420us/step - loss: 0.6671 - mae: 0.6508\n"
     ]
    }
   ],
   "source": [
    "preds = my_model.evaluate(X_test, y_test)"
   ]
  },
  {
   "cell_type": "code",
   "execution_count": 93,
   "metadata": {},
   "outputs": [],
   "source": [
    "preds = my_model.predict(X_test)"
   ]
  },
  {
   "cell_type": "code",
   "execution_count": 94,
   "metadata": {},
   "outputs": [
    {
     "output_type": "execute_result",
     "data": {
      "text/plain": [
       "73984   -1.367675\n",
       "73373   -1.058085\n",
       "72588    1.313449\n",
       "21818    0.655472\n",
       "83635   -0.877848\n",
       "           ...   \n",
       "82350   -0.510633\n",
       "30474    0.549762\n",
       "24254   -0.746922\n",
       "51831   -0.372112\n",
       "33933    0.205977\n",
       "Name: z-score, Length: 18930, dtype: float64"
      ]
     },
     "metadata": {},
     "execution_count": 94
    }
   ],
   "source": [
    "y_test"
   ]
  },
  {
   "cell_type": "code",
   "execution_count": 95,
   "metadata": {},
   "outputs": [
    {
     "output_type": "execute_result",
     "data": {
      "text/plain": [
       "array([[-0.5716591 ],\n",
       "       [-0.1911489 ],\n",
       "       [ 0.52797294],\n",
       "       ...,\n",
       "       [-0.12010144],\n",
       "       [-0.13900071],\n",
       "       [ 0.04361013]], dtype=float32)"
      ]
     },
     "metadata": {},
     "execution_count": 95
    }
   ],
   "source": [
    "preds"
   ]
  },
  {
   "cell_type": "code",
   "execution_count": 67,
   "metadata": {},
   "outputs": [
    {
     "output_type": "execute_result",
     "data": {
      "text/plain": [
       "                                                  source   z-score  \\\n",
       "13077  34) das Halbfinale des olympischen Tennisturni... -3.581507   \n",
       "14887  34) das Halbfinale des olympischen Tennisturni... -2.217306   \n",
       "17883  34) das Halbfinale des olympischen Tennisturni... -2.328265   \n",
       "19744  34) das Halbfinale des olympischen Tennisturni...  0.216676   \n",
       "21522  34) das Halbfinale des olympischen Tennisturni...  0.546947   \n",
       "23342  34) das Halbfinale des olympischen Tennisturni...  0.639098   \n",
       "25451  34) das Halbfinale des olympischen Tennisturni...  0.018193   \n",
       "39524                                         Как и Бэм. -0.540447   \n",
       "40120                                    Коу поморщился. -6.428480   \n",
       "41170                                   Написал Ланцман. -1.353824   \n",
       "66492  根据《政客新闻网》的报道，特朗普在上世纪九十年代有两年几乎没有缴纳过一分钱的税，《纽约时报》...  0.696136   \n",
       "\n",
       "                                                      pt  \\\n",
       "13077                                                 []   \n",
       "14887                                                 []   \n",
       "17883                                                 []   \n",
       "19744                                                 []   \n",
       "21522                                                 []   \n",
       "23342                                                 []   \n",
       "25451                                                 []   \n",
       "39524                                      [so, is, bam]   \n",
       "40120                               [mr., coe, grimaced]   \n",
       "41170                                  [lanzmann, wrote]   \n",
       "66492  [politico, has, reported, that, trump, paid, t...   \n",
       "\n",
       "                                                     ref  1gram-precision  \\\n",
       "13077  [the, semi, -, final, of, the, olympic, tennis...              0.0   \n",
       "14887  [the, semi, -, final, of, the, olympic, tennis...              0.0   \n",
       "17883  [34, clear, the, semi, -, finals, of, the, oly...              0.0   \n",
       "19744  [the, semi, -, finals, of, the, olympic, tenni...              0.0   \n",
       "21522  [34, the, semi, -, finals, of, the, olympic, t...              0.0   \n",
       "23342  [34, the, semi, -, final, of, the, olympic, te...              0.0   \n",
       "25451  [the, semi, -, final, of, the, olympic, tourna...              0.0   \n",
       "39524                                                 []              0.0   \n",
       "40120                                                 []              0.0   \n",
       "41170                                                 []              0.0   \n",
       "66492                                                 []              0.0   \n",
       "\n",
       "       2gram-precision  3gram-precision  4gram-precision  1gram-recall  \\\n",
       "13077              0.0              0.0              0.0           0.0   \n",
       "14887              0.0              0.0              0.0           0.0   \n",
       "17883              0.0              0.0              0.0           0.0   \n",
       "19744              0.0              0.0              0.0           0.0   \n",
       "21522              0.0              0.0              0.0           0.0   \n",
       "23342              0.0              0.0              0.0           0.0   \n",
       "25451              0.0              0.0              0.0           0.0   \n",
       "39524              0.0              0.0              0.0           0.0   \n",
       "40120              0.0              0.0              0.0           0.0   \n",
       "41170              0.0              0.0              0.0           0.0   \n",
       "66492              0.0              0.0              0.0           0.0   \n",
       "\n",
       "       2gram-recall  3gram-recall  4gram-recall  wmdist  pt_len  ref_len  \n",
       "13077           0.0           0.0           0.0     inf       0       10  \n",
       "14887           0.0           0.0           0.0     inf       0       10  \n",
       "17883           0.0           0.0           0.0     inf       0       11  \n",
       "19744           0.0           0.0           0.0     inf       0        9  \n",
       "21522           0.0           0.0           0.0     inf       0       10  \n",
       "23342           0.0           0.0           0.0     inf       0       12  \n",
       "25451           0.0           0.0           0.0     inf       0        8  \n",
       "39524           0.0           0.0           0.0     inf       3        0  \n",
       "40120           0.0           0.0           0.0     inf       3        0  \n",
       "41170           0.0           0.0           0.0     inf       2        0  \n",
       "66492           0.0           0.0           0.0     inf      39        0  "
      ],
      "text/html": "<div>\n<style scoped>\n    .dataframe tbody tr th:only-of-type {\n        vertical-align: middle;\n    }\n\n    .dataframe tbody tr th {\n        vertical-align: top;\n    }\n\n    .dataframe thead th {\n        text-align: right;\n    }\n</style>\n<table border=\"1\" class=\"dataframe\">\n  <thead>\n    <tr style=\"text-align: right;\">\n      <th></th>\n      <th>source</th>\n      <th>z-score</th>\n      <th>pt</th>\n      <th>ref</th>\n      <th>1gram-precision</th>\n      <th>2gram-precision</th>\n      <th>3gram-precision</th>\n      <th>4gram-precision</th>\n      <th>1gram-recall</th>\n      <th>2gram-recall</th>\n      <th>3gram-recall</th>\n      <th>4gram-recall</th>\n      <th>wmdist</th>\n      <th>pt_len</th>\n      <th>ref_len</th>\n    </tr>\n  </thead>\n  <tbody>\n    <tr>\n      <th>13077</th>\n      <td>34) das Halbfinale des olympischen Tennisturni...</td>\n      <td>-3.581507</td>\n      <td>[]</td>\n      <td>[the, semi, -, final, of, the, olympic, tennis...</td>\n      <td>0.0</td>\n      <td>0.0</td>\n      <td>0.0</td>\n      <td>0.0</td>\n      <td>0.0</td>\n      <td>0.0</td>\n      <td>0.0</td>\n      <td>0.0</td>\n      <td>inf</td>\n      <td>0</td>\n      <td>10</td>\n    </tr>\n    <tr>\n      <th>14887</th>\n      <td>34) das Halbfinale des olympischen Tennisturni...</td>\n      <td>-2.217306</td>\n      <td>[]</td>\n      <td>[the, semi, -, final, of, the, olympic, tennis...</td>\n      <td>0.0</td>\n      <td>0.0</td>\n      <td>0.0</td>\n      <td>0.0</td>\n      <td>0.0</td>\n      <td>0.0</td>\n      <td>0.0</td>\n      <td>0.0</td>\n      <td>inf</td>\n      <td>0</td>\n      <td>10</td>\n    </tr>\n    <tr>\n      <th>17883</th>\n      <td>34) das Halbfinale des olympischen Tennisturni...</td>\n      <td>-2.328265</td>\n      <td>[]</td>\n      <td>[34, clear, the, semi, -, finals, of, the, oly...</td>\n      <td>0.0</td>\n      <td>0.0</td>\n      <td>0.0</td>\n      <td>0.0</td>\n      <td>0.0</td>\n      <td>0.0</td>\n      <td>0.0</td>\n      <td>0.0</td>\n      <td>inf</td>\n      <td>0</td>\n      <td>11</td>\n    </tr>\n    <tr>\n      <th>19744</th>\n      <td>34) das Halbfinale des olympischen Tennisturni...</td>\n      <td>0.216676</td>\n      <td>[]</td>\n      <td>[the, semi, -, finals, of, the, olympic, tenni...</td>\n      <td>0.0</td>\n      <td>0.0</td>\n      <td>0.0</td>\n      <td>0.0</td>\n      <td>0.0</td>\n      <td>0.0</td>\n      <td>0.0</td>\n      <td>0.0</td>\n      <td>inf</td>\n      <td>0</td>\n      <td>9</td>\n    </tr>\n    <tr>\n      <th>21522</th>\n      <td>34) das Halbfinale des olympischen Tennisturni...</td>\n      <td>0.546947</td>\n      <td>[]</td>\n      <td>[34, the, semi, -, finals, of, the, olympic, t...</td>\n      <td>0.0</td>\n      <td>0.0</td>\n      <td>0.0</td>\n      <td>0.0</td>\n      <td>0.0</td>\n      <td>0.0</td>\n      <td>0.0</td>\n      <td>0.0</td>\n      <td>inf</td>\n      <td>0</td>\n      <td>10</td>\n    </tr>\n    <tr>\n      <th>23342</th>\n      <td>34) das Halbfinale des olympischen Tennisturni...</td>\n      <td>0.639098</td>\n      <td>[]</td>\n      <td>[34, the, semi, -, final, of, the, olympic, te...</td>\n      <td>0.0</td>\n      <td>0.0</td>\n      <td>0.0</td>\n      <td>0.0</td>\n      <td>0.0</td>\n      <td>0.0</td>\n      <td>0.0</td>\n      <td>0.0</td>\n      <td>inf</td>\n      <td>0</td>\n      <td>12</td>\n    </tr>\n    <tr>\n      <th>25451</th>\n      <td>34) das Halbfinale des olympischen Tennisturni...</td>\n      <td>0.018193</td>\n      <td>[]</td>\n      <td>[the, semi, -, final, of, the, olympic, tourna...</td>\n      <td>0.0</td>\n      <td>0.0</td>\n      <td>0.0</td>\n      <td>0.0</td>\n      <td>0.0</td>\n      <td>0.0</td>\n      <td>0.0</td>\n      <td>0.0</td>\n      <td>inf</td>\n      <td>0</td>\n      <td>8</td>\n    </tr>\n    <tr>\n      <th>39524</th>\n      <td>Как и Бэм.</td>\n      <td>-0.540447</td>\n      <td>[so, is, bam]</td>\n      <td>[]</td>\n      <td>0.0</td>\n      <td>0.0</td>\n      <td>0.0</td>\n      <td>0.0</td>\n      <td>0.0</td>\n      <td>0.0</td>\n      <td>0.0</td>\n      <td>0.0</td>\n      <td>inf</td>\n      <td>3</td>\n      <td>0</td>\n    </tr>\n    <tr>\n      <th>40120</th>\n      <td>Коу поморщился.</td>\n      <td>-6.428480</td>\n      <td>[mr., coe, grimaced]</td>\n      <td>[]</td>\n      <td>0.0</td>\n      <td>0.0</td>\n      <td>0.0</td>\n      <td>0.0</td>\n      <td>0.0</td>\n      <td>0.0</td>\n      <td>0.0</td>\n      <td>0.0</td>\n      <td>inf</td>\n      <td>3</td>\n      <td>0</td>\n    </tr>\n    <tr>\n      <th>41170</th>\n      <td>Написал Ланцман.</td>\n      <td>-1.353824</td>\n      <td>[lanzmann, wrote]</td>\n      <td>[]</td>\n      <td>0.0</td>\n      <td>0.0</td>\n      <td>0.0</td>\n      <td>0.0</td>\n      <td>0.0</td>\n      <td>0.0</td>\n      <td>0.0</td>\n      <td>0.0</td>\n      <td>inf</td>\n      <td>2</td>\n      <td>0</td>\n    </tr>\n    <tr>\n      <th>66492</th>\n      <td>根据《政客新闻网》的报道，特朗普在上世纪九十年代有两年几乎没有缴纳过一分钱的税，《纽约时报》...</td>\n      <td>0.696136</td>\n      <td>[politico, has, reported, that, trump, paid, t...</td>\n      <td>[]</td>\n      <td>0.0</td>\n      <td>0.0</td>\n      <td>0.0</td>\n      <td>0.0</td>\n      <td>0.0</td>\n      <td>0.0</td>\n      <td>0.0</td>\n      <td>0.0</td>\n      <td>inf</td>\n      <td>39</td>\n      <td>0</td>\n    </tr>\n  </tbody>\n</table>\n</div>"
     },
     "metadata": {},
     "execution_count": 67
    }
   ],
   "source": [
    "en_df[en_df[\"wmdist\"]== np.inf]"
   ]
  }
 ]
}
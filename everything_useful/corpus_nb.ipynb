{
 "metadata": {
  "language_info": {
   "codemirror_mode": {
    "name": "ipython",
    "version": 3
   },
   "file_extension": ".py",
   "mimetype": "text/x-python",
   "name": "python",
   "nbconvert_exporter": "python",
   "pygments_lexer": "ipython3",
   "version": "3.8.10"
  },
  "orig_nbformat": 2,
  "kernelspec": {
   "name": "python3810jvsc74a57bd092ba50c92c9dc11b366869717e90d544d23b7140e20708921d0ff91f276d2e3f",
   "display_name": "Python 3.8.5 64-bit ('base': conda)"
  }
 },
 "nbformat": 4,
 "nbformat_minor": 2,
 "cells": [
  {
   "cell_type": "code",
   "execution_count": 1,
   "metadata": {},
   "outputs": [
    {
     "output_type": "stream",
     "name": "stderr",
     "text": [
      "C:\\Users\\oguzk\\anaconda3\\lib\\site-packages\\gensim\\similarities\\__init__.py:15: UserWarning: The gensim.similarities.levenshtein submodule is disabled, because the optional Levenshtein package <https://pypi.org/project/python-Levenshtein/> is unavailable. Install Levenhstein (e.g. `pip install python-Levenshtein`) to suppress this warning.\n  warnings.warn(msg)\n"
     ]
    }
   ],
   "source": [
    "from main import tokenization, match_regex, chinese_regex\n",
    "import pandas as pd\n",
    "from gensim.models import Word2Vec"
   ]
  },
  {
   "cell_type": "code",
   "execution_count": 2,
   "metadata": {},
   "outputs": [],
   "source": [
    "language_pairs = [\n",
    "    'en-fi', 'en-zh', 'cs-en'\n",
    "    , 'de-en', 'ru-en', 'zh-en'\n",
    "]\n",
    "translations = ['fi', 'zh', 'en']\n",
    "\n",
    "corpus_fi = []\n",
    "corpus_zh = []\n",
    "corpus_en = []\n",
    "\n",
    "for pair in language_pairs:\n",
    "    languages = pair.split('-')\n",
    "    for i in range(2):\n",
    "        all_sentences = pd.read_csv(os.path.join('corpus',pair, 'scores.csv'))\n",
    "        if i == 0:\n",
    "            sentences = all_sentences['source']\n",
    "        if i == 1:\n",
    "            sentences = all_sentences['reference'].append(all_sentences['translation'], ignore_index=True)\n",
    "              \n",
    "        if languages[i]=='fi':\n",
    "            corpus_fi.append(sentences)\n",
    "        elif languages[i]=='zh':\n",
    "            corpus_zh.append(sentences)\n",
    "        elif languages[i]=='en':\n",
    "            corpus_en.append(sentences)\n"
   ]
  },
  {
   "cell_type": "code",
   "execution_count": 3,
   "metadata": {},
   "outputs": [],
   "source": [
    "corpus_fi = list(pd.concat(corpus_fi))\n",
    "corpus_en = list(pd.concat(corpus_en))\n",
    "corpus_zh = list(pd.concat(corpus_zh))\n"
   ]
  },
  {
   "cell_type": "code",
   "execution_count": 4,
   "metadata": {},
   "outputs": [
    {
     "output_type": "stream",
     "name": "stderr",
     "text": [
      "172345it [06:10, 465.61it/s]\n",
      "13496it [00:02, 5995.85it/s]\n",
      "46861it [02:11, 357.29it/s]\n"
     ]
    }
   ],
   "source": [
    "#English\n",
    "en_tokenized = tokenization(corpus_en, tool = 'spacy', language = 'en', pos_to_remove = ['PUNCT', 'NUM'], ent_to_remove = [], stop_words_to_remove= False, lowercase = True)\n",
    "\n",
    "# Finnish\n",
    "# remove punctuation keeping the strings with letters\n",
    "fin_tokenized = tokenization(corpus_fi, tool = 'spacy', language = 'fi',lowercase = True)\n",
    "fin_tokenized = match_regex(fin_tokenized, letters = True, letters_and_numbers = False)\n",
    "\n",
    "#Chinese\n",
    "zh_tokenized = tokenization(corpus_zh, tool = 'spacy', language = 'zh', stop_words_to_remove= False)\n"
   ]
  },
  {
   "cell_type": "code",
   "execution_count": 7,
   "metadata": {},
   "outputs": [],
   "source": [
    "# Word2Vec Models for each language\n",
    "\n",
    "# English\n",
    "model_en = Word2Vec(sentences=en_tokenized, min_count=1)\n",
    "model_en.save(\"word2vec_en.model\")\n",
    "\n",
    "#Fin\n",
    "model_fi = Word2Vec(sentences=fin_tokenized, min_count=1)\n",
    "model_fi.save(\"word2vec_fi.model\")\n",
    "\n",
    "#Chinese\n",
    "model_zh = Word2Vec(sentences=zh_tokenized, min_count=1)\n",
    "model_zh.save(\"word2vec_zh.model\")\n"
   ]
  },
  {
   "cell_type": "code",
   "execution_count": 9,
   "metadata": {},
   "outputs": [],
   "source": [
    "# Word2Vec Models for each language\n",
    "\n",
    "# English\n",
    "vec_en = model_en.wv\n",
    "vec_en.save(\"en_vectors.kv\")\n",
    "\n",
    "#Fin\n",
    "vec_fi = model_fi.wv\n",
    "vec_fi.save(\"fi_vectors.kv\")\n",
    "\n",
    "#Chi\n",
    "vec_zh = model_zh.wv\n",
    "vec_zh.save(\"zh_vectors.kv\")\n"
   ]
  }
 ]
}